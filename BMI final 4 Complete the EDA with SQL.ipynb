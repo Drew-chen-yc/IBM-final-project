{
 "cells": [
  {
   "cell_type": "code",
   "execution_count": 1,
   "id": "9b1290a3-f031-4be2-89b1-d225b5447927",
   "metadata": {
    "scrolled": true
   },
   "outputs": [
    {
     "name": "stdout",
     "output_type": "stream",
     "text": [
      "Collecting sqlalchemy==1.3.9\n",
      "  Using cached SQLAlchemy-1.3.9-cp311-cp311-win_amd64.whl\n",
      "Installing collected packages: sqlalchemy\n",
      "  Attempting uninstall: sqlalchemy\n",
      "    Found existing installation: SQLAlchemy 2.0.34\n",
      "    Uninstalling SQLAlchemy-2.0.34:\n",
      "      Successfully uninstalled SQLAlchemy-2.0.34\n",
      "Successfully installed sqlalchemy-1.3.9\n"
     ]
    },
    {
     "name": "stderr",
     "output_type": "stream",
     "text": [
      "ERROR: pip's dependency resolver does not currently take into account all the packages that are installed. This behaviour is the source of the following dependency conflicts.\n",
      "ipython-sql 0.5.0 requires sqlalchemy>=2.0, but you have sqlalchemy 1.3.9 which is incompatible.\n"
     ]
    },
    {
     "name": "stdout",
     "output_type": "stream",
     "text": [
      "Requirement already satisfied: ipython-sql in c:\\users\\kkiwi\\anaconda3\\lib\\site-packages (0.5.0)\n",
      "Requirement already satisfied: prettytable in c:\\users\\kkiwi\\anaconda3\\lib\\site-packages (from ipython-sql) (3.10.0)\n",
      "Requirement already satisfied: ipython in c:\\users\\kkiwi\\anaconda3\\lib\\site-packages (from ipython-sql) (8.20.0)\n",
      "Collecting sqlalchemy>=2.0 (from ipython-sql)\n",
      "  Downloading SQLAlchemy-2.0.35-cp311-cp311-win_amd64.whl.metadata (9.9 kB)\n",
      "Requirement already satisfied: sqlparse in c:\\users\\kkiwi\\anaconda3\\lib\\site-packages (from ipython-sql) (0.5.0)\n",
      "Requirement already satisfied: six in c:\\users\\kkiwi\\anaconda3\\lib\\site-packages (from ipython-sql) (1.16.0)\n",
      "Requirement already satisfied: ipython-genutils in c:\\users\\kkiwi\\anaconda3\\lib\\site-packages (from ipython-sql) (0.2.0)\n",
      "Requirement already satisfied: typing-extensions>=4.6.0 in c:\\users\\kkiwi\\anaconda3\\lib\\site-packages (from sqlalchemy>=2.0->ipython-sql) (4.9.0)\n",
      "Requirement already satisfied: greenlet!=0.4.17 in c:\\users\\kkiwi\\anaconda3\\lib\\site-packages (from sqlalchemy>=2.0->ipython-sql) (3.0.3)\n",
      "Requirement already satisfied: decorator in c:\\users\\kkiwi\\anaconda3\\lib\\site-packages (from ipython->ipython-sql) (5.1.1)\n",
      "Requirement already satisfied: jedi>=0.16 in c:\\users\\kkiwi\\anaconda3\\lib\\site-packages (from ipython->ipython-sql) (0.18.1)\n",
      "Requirement already satisfied: matplotlib-inline in c:\\users\\kkiwi\\anaconda3\\lib\\site-packages (from ipython->ipython-sql) (0.1.6)\n",
      "Requirement already satisfied: prompt-toolkit<3.1.0,>=3.0.41 in c:\\users\\kkiwi\\anaconda3\\lib\\site-packages (from ipython->ipython-sql) (3.0.43)\n",
      "Requirement already satisfied: pygments>=2.4.0 in c:\\users\\kkiwi\\anaconda3\\lib\\site-packages (from ipython->ipython-sql) (2.15.1)\n",
      "Requirement already satisfied: stack-data in c:\\users\\kkiwi\\anaconda3\\lib\\site-packages (from ipython->ipython-sql) (0.2.0)\n",
      "Requirement already satisfied: traitlets>=5 in c:\\users\\kkiwi\\anaconda3\\lib\\site-packages (from ipython->ipython-sql) (5.7.1)\n",
      "Requirement already satisfied: colorama in c:\\users\\kkiwi\\anaconda3\\lib\\site-packages (from ipython->ipython-sql) (0.4.6)\n",
      "Requirement already satisfied: wcwidth in c:\\users\\kkiwi\\anaconda3\\lib\\site-packages (from prettytable->ipython-sql) (0.2.5)\n",
      "Requirement already satisfied: parso<0.9.0,>=0.8.0 in c:\\users\\kkiwi\\anaconda3\\lib\\site-packages (from jedi>=0.16->ipython->ipython-sql) (0.8.3)\n",
      "Requirement already satisfied: executing in c:\\users\\kkiwi\\anaconda3\\lib\\site-packages (from stack-data->ipython->ipython-sql) (0.8.3)\n",
      "Requirement already satisfied: asttokens in c:\\users\\kkiwi\\anaconda3\\lib\\site-packages (from stack-data->ipython->ipython-sql) (2.0.5)\n",
      "Requirement already satisfied: pure-eval in c:\\users\\kkiwi\\anaconda3\\lib\\site-packages (from stack-data->ipython->ipython-sql) (0.2.2)\n",
      "Downloading SQLAlchemy-2.0.35-cp311-cp311-win_amd64.whl (2.1 MB)\n",
      "   ---------------------------------------- 0.0/2.1 MB ? eta -:--:--\n",
      "    --------------------------------------- 0.0/2.1 MB 1.4 MB/s eta 0:00:02\n",
      "   - -------------------------------------- 0.1/2.1 MB 656.4 kB/s eta 0:00:04\n",
      "   - -------------------------------------- 0.1/2.1 MB 657.6 kB/s eta 0:00:04\n",
      "   - -------------------------------------- 0.1/2.1 MB 585.1 kB/s eta 0:00:04\n",
      "   -- ------------------------------------- 0.1/2.1 MB 554.9 kB/s eta 0:00:04\n",
      "   -- ------------------------------------- 0.1/2.1 MB 532.5 kB/s eta 0:00:04\n",
      "   --- ------------------------------------ 0.2/2.1 MB 546.6 kB/s eta 0:00:04\n",
      "   --- ------------------------------------ 0.2/2.1 MB 546.6 kB/s eta 0:00:04\n",
      "   --- ------------------------------------ 0.2/2.1 MB 436.9 kB/s eta 0:00:05\n",
      "   --- ------------------------------------ 0.2/2.1 MB 436.9 kB/s eta 0:00:05\n",
      "   --- ------------------------------------ 0.2/2.1 MB 436.9 kB/s eta 0:00:05\n",
      "   --- ------------------------------------ 0.2/2.1 MB 436.9 kB/s eta 0:00:05\n",
      "   --- ------------------------------------ 0.2/2.1 MB 328.0 kB/s eta 0:00:06\n",
      "   --- ------------------------------------ 0.2/2.1 MB 328.0 kB/s eta 0:00:06\n",
      "   --- ------------------------------------ 0.2/2.1 MB 283.2 kB/s eta 0:00:07\n",
      "   ---- ----------------------------------- 0.2/2.1 MB 299.1 kB/s eta 0:00:07\n",
      "   ---- ----------------------------------- 0.2/2.1 MB 314.0 kB/s eta 0:00:06\n",
      "   ----- ---------------------------------- 0.3/2.1 MB 327.9 kB/s eta 0:00:06\n",
      "   ----- ---------------------------------- 0.3/2.1 MB 327.6 kB/s eta 0:00:06\n",
      "   ------ --------------------------------- 0.3/2.1 MB 350.4 kB/s eta 0:00:06\n",
      "   ------ --------------------------------- 0.3/2.1 MB 349.7 kB/s eta 0:00:06\n",
      "   ------ --------------------------------- 0.4/2.1 MB 353.8 kB/s eta 0:00:05\n",
      "   ------- -------------------------------- 0.4/2.1 MB 361.9 kB/s eta 0:00:05\n",
      "   ------- -------------------------------- 0.4/2.1 MB 370.5 kB/s eta 0:00:05\n",
      "   -------- ------------------------------- 0.4/2.1 MB 377.3 kB/s eta 0:00:05\n",
      "   -------- ------------------------------- 0.5/2.1 MB 375.7 kB/s eta 0:00:05\n",
      "   --------- ------------------------------ 0.5/2.1 MB 390.0 kB/s eta 0:00:05\n",
      "   --------- ------------------------------ 0.5/2.1 MB 383.7 kB/s eta 0:00:05\n",
      "   ---------- ----------------------------- 0.5/2.1 MB 385.5 kB/s eta 0:00:05\n",
      "   ---------- ----------------------------- 0.5/2.1 MB 384.3 kB/s eta 0:00:05\n",
      "   ---------- ----------------------------- 0.6/2.1 MB 396.1 kB/s eta 0:00:04\n",
      "   ----------- ---------------------------- 0.6/2.1 MB 394.7 kB/s eta 0:00:04\n",
      "   ----------- ---------------------------- 0.6/2.1 MB 398.8 kB/s eta 0:00:04\n",
      "   ------------ --------------------------- 0.6/2.1 MB 403.8 kB/s eta 0:00:04\n",
      "   ------------ --------------------------- 0.7/2.1 MB 407.3 kB/s eta 0:00:04\n",
      "   ------------- -------------------------- 0.7/2.1 MB 412.1 kB/s eta 0:00:04\n",
      "   ------------- -------------------------- 0.7/2.1 MB 414.9 kB/s eta 0:00:04\n",
      "   -------------- ------------------------- 0.7/2.1 MB 419.3 kB/s eta 0:00:04\n",
      "   -------------- ------------------------- 0.8/2.1 MB 418.2 kB/s eta 0:00:04\n",
      "   -------------- ------------------------- 0.8/2.1 MB 416.5 kB/s eta 0:00:04\n",
      "   --------------- ------------------------ 0.8/2.1 MB 424.4 kB/s eta 0:00:03\n",
      "   --------------- ------------------------ 0.8/2.1 MB 422.9 kB/s eta 0:00:03\n",
      "   ---------------- ----------------------- 0.8/2.1 MB 426.4 kB/s eta 0:00:03\n",
      "   ---------------- ----------------------- 0.9/2.1 MB 428.6 kB/s eta 0:00:03\n",
      "   ----------------- ---------------------- 0.9/2.1 MB 432.0 kB/s eta 0:00:03\n",
      "   ----------------- ---------------------- 0.9/2.1 MB 433.7 kB/s eta 0:00:03\n",
      "   ------------------ --------------------- 0.9/2.1 MB 432.2 kB/s eta 0:00:03\n",
      "   ------------------ --------------------- 1.0/2.1 MB 438.4 kB/s eta 0:00:03\n",
      "   ------------------- -------------------- 1.0/2.1 MB 436.9 kB/s eta 0:00:03\n",
      "   ------------------- -------------------- 1.0/2.1 MB 438.5 kB/s eta 0:00:03\n",
      "   -------------------- ------------------- 1.0/2.1 MB 441.2 kB/s eta 0:00:03\n",
      "   -------------------- ------------------- 1.1/2.1 MB 441.3 kB/s eta 0:00:03\n",
      "   -------------------- ------------------- 1.1/2.1 MB 437.0 kB/s eta 0:00:03\n",
      "   -------------------- ------------------- 1.1/2.1 MB 437.0 kB/s eta 0:00:03\n",
      "   -------------------- ------------------- 1.1/2.1 MB 428.9 kB/s eta 0:00:03\n",
      "   -------------------- ------------------- 1.1/2.1 MB 428.9 kB/s eta 0:00:03\n",
      "   -------------------- ------------------- 1.1/2.1 MB 428.9 kB/s eta 0:00:03\n",
      "   --------------------- ------------------ 1.1/2.1 MB 410.1 kB/s eta 0:00:03\n",
      "   --------------------- ------------------ 1.1/2.1 MB 410.1 kB/s eta 0:00:03\n",
      "   --------------------- ------------------ 1.1/2.1 MB 405.9 kB/s eta 0:00:03\n",
      "   --------------------- ------------------ 1.1/2.1 MB 405.9 kB/s eta 0:00:03\n",
      "   --------------------- ------------------ 1.1/2.1 MB 395.4 kB/s eta 0:00:03\n",
      "   --------------------- ------------------ 1.1/2.1 MB 395.4 kB/s eta 0:00:03\n",
      "   --------------------- ------------------ 1.1/2.1 MB 395.4 kB/s eta 0:00:03\n",
      "   ---------------------- ----------------- 1.2/2.1 MB 382.3 kB/s eta 0:00:03\n",
      "   ---------------------- ----------------- 1.2/2.1 MB 383.1 kB/s eta 0:00:03\n",
      "   ---------------------- ----------------- 1.2/2.1 MB 382.6 kB/s eta 0:00:03\n",
      "   ----------------------- ---------------- 1.2/2.1 MB 388.1 kB/s eta 0:00:03\n",
      "   ----------------------- ---------------- 1.2/2.1 MB 387.4 kB/s eta 0:00:03\n",
      "   ------------------------ --------------- 1.3/2.1 MB 389.5 kB/s eta 0:00:03\n",
      "   ------------------------ --------------- 1.3/2.1 MB 388.2 kB/s eta 0:00:03\n",
      "   ------------------------- -------------- 1.3/2.1 MB 390.8 kB/s eta 0:00:02\n",
      "   ------------------------- -------------- 1.3/2.1 MB 388.4 kB/s eta 0:00:02\n",
      "   ------------------------- -------------- 1.4/2.1 MB 390.3 kB/s eta 0:00:02\n",
      "   -------------------------- ------------- 1.4/2.1 MB 392.6 kB/s eta 0:00:02\n",
      "   -------------------------- ------------- 1.4/2.1 MB 395.0 kB/s eta 0:00:02\n",
      "   --------------------------- ------------ 1.4/2.1 MB 396.7 kB/s eta 0:00:02\n",
      "   --------------------------- ------------ 1.4/2.1 MB 394.4 kB/s eta 0:00:02\n",
      "   ---------------------------- ----------- 1.5/2.1 MB 398.8 kB/s eta 0:00:02\n",
      "   ---------------------------- ----------- 1.5/2.1 MB 398.2 kB/s eta 0:00:02\n",
      "   ----------------------------- ---------- 1.5/2.1 MB 399.8 kB/s eta 0:00:02\n",
      "   ----------------------------- ---------- 1.5/2.1 MB 401.8 kB/s eta 0:00:02\n",
      "   ------------------------------ --------- 1.6/2.1 MB 403.3 kB/s eta 0:00:02\n",
      "   ------------------------------ --------- 1.6/2.1 MB 405.4 kB/s eta 0:00:02\n",
      "   ------------------------------- -------- 1.6/2.1 MB 408.4 kB/s eta 0:00:02\n",
      "   ------------------------------- -------- 1.6/2.1 MB 410.2 kB/s eta 0:00:02\n",
      "   ------------------------------- -------- 1.7/2.1 MB 411.5 kB/s eta 0:00:02\n",
      "   -------------------------------- ------- 1.7/2.1 MB 414.3 kB/s eta 0:00:01\n",
      "   -------------------------------- ------- 1.7/2.1 MB 416.2 kB/s eta 0:00:01\n",
      "   --------------------------------- ------ 1.8/2.1 MB 417.3 kB/s eta 0:00:01\n",
      "   ---------------------------------- ----- 1.8/2.1 MB 419.9 kB/s eta 0:00:01\n",
      "   ---------------------------------- ----- 1.8/2.1 MB 420.2 kB/s eta 0:00:01\n",
      "   ---------------------------------- ----- 1.8/2.1 MB 420.2 kB/s eta 0:00:01\n",
      "   ---------------------------------- ----- 1.8/2.1 MB 414.9 kB/s eta 0:00:01\n",
      "   ----------------------------------- ---- 1.8/2.1 MB 412.2 kB/s eta 0:00:01\n",
      "   ----------------------------------- ---- 1.8/2.1 MB 412.2 kB/s eta 0:00:01\n",
      "   ----------------------------------- ---- 1.8/2.1 MB 412.2 kB/s eta 0:00:01\n",
      "   ----------------------------------- ---- 1.8/2.1 MB 404.5 kB/s eta 0:00:01\n",
      "   ----------------------------------- ---- 1.8/2.1 MB 404.5 kB/s eta 0:00:01\n",
      "   ----------------------------------- ---- 1.9/2.1 MB 394.1 kB/s eta 0:00:01\n",
      "   ------------------------------------ --- 1.9/2.1 MB 395.4 kB/s eta 0:00:01\n",
      "   ------------------------------------ --- 1.9/2.1 MB 397.0 kB/s eta 0:00:01\n",
      "   ------------------------------------ --- 1.9/2.1 MB 395.3 kB/s eta 0:00:01\n",
      "   ------------------------------------- -- 2.0/2.1 MB 400.0 kB/s eta 0:00:01\n",
      "   ------------------------------------- -- 2.0/2.1 MB 398.2 kB/s eta 0:00:01\n",
      "   -------------------------------------- - 2.0/2.1 MB 399.8 kB/s eta 0:00:01\n",
      "   ---------------------------------------  2.0/2.1 MB 402.6 kB/s eta 0:00:01\n",
      "   ---------------------------------------  2.1/2.1 MB 403.6 kB/s eta 0:00:01\n",
      "   ---------------------------------------- 2.1/2.1 MB 402.8 kB/s eta 0:00:00\n",
      "Installing collected packages: sqlalchemy\n",
      "  Attempting uninstall: sqlalchemy\n",
      "    Found existing installation: SQLAlchemy 1.3.9\n",
      "    Uninstalling SQLAlchemy-1.3.9:\n",
      "      Successfully uninstalled SQLAlchemy-1.3.9\n",
      "Successfully installed sqlalchemy-2.0.35\n"
     ]
    }
   ],
   "source": [
    "!pip install sqlalchemy==1.3.9\n",
    "!pip install ipython-sql"
   ]
  },
  {
   "cell_type": "code",
   "execution_count": 2,
   "id": "4fb96261-82f2-49ec-88a3-bd93933650a0",
   "metadata": {},
   "outputs": [],
   "source": [
    "%load_ext sql"
   ]
  },
  {
   "cell_type": "code",
   "execution_count": 3,
   "id": "24fdb958-f152-4357-a06d-80a92499ca9e",
   "metadata": {},
   "outputs": [],
   "source": [
    "import csv, sqlite3\n",
    "\n",
    "con = sqlite3.connect(\"my_data1.db\")\n",
    "cur = con.cursor()"
   ]
  },
  {
   "cell_type": "code",
   "execution_count": 4,
   "id": "88dc2d3d-9c4c-41ba-bd80-d934d3cf1e25",
   "metadata": {},
   "outputs": [],
   "source": [
    "!pip install -q pandas"
   ]
  },
  {
   "cell_type": "code",
   "execution_count": 5,
   "id": "7e97f373-96b3-4df9-8262-94f3b24ae3c0",
   "metadata": {},
   "outputs": [],
   "source": [
    "%sql sqlite:///my_data1.db"
   ]
  },
  {
   "cell_type": "code",
   "execution_count": 6,
   "id": "50501e3e-0af1-4339-96f9-65ae7b60e2ae",
   "metadata": {},
   "outputs": [
    {
     "data": {
      "text/plain": [
       "101"
      ]
     },
     "execution_count": 6,
     "metadata": {},
     "output_type": "execute_result"
    }
   ],
   "source": [
    "import pandas as pd\n",
    "df = pd.read_csv(\"https://cf-courses-data.s3.us.cloud-object-storage.appdomain.cloud/IBM-DS0321EN-SkillsNetwork/labs/module_2/data/Spacex.csv\")\n",
    "df.to_sql(\"SPACEXTBL\", con, if_exists='replace', index=False,method=\"multi\")"
   ]
  },
  {
   "cell_type": "code",
   "execution_count": null,
   "id": "700634a8-2651-4753-8363-a6d4d1bba764",
   "metadata": {},
   "outputs": [],
   "source": []
  },
  {
   "cell_type": "code",
   "execution_count": 7,
   "id": "bd443575-ddca-4ee2-861a-8a7ef2878bae",
   "metadata": {},
   "outputs": [
    {
     "name": "stdout",
     "output_type": "stream",
     "text": [
      " * sqlite:///my_data1.db\n",
      "(sqlite3.OperationalError) table SPACEXTABLE already exists\n",
      "[SQL: create table SPACEXTABLE as select * from SPACEXTBL where Date is not null]\n",
      "(Background on this error at: https://sqlalche.me/e/20/e3q8)\n"
     ]
    }
   ],
   "source": [
    "%sql create table SPACEXTABLE as select * from SPACEXTBL where Date is not null"
   ]
  },
  {
   "cell_type": "code",
   "execution_count": 8,
   "id": "6d81af99-6357-43d7-85db-d92151d961d8",
   "metadata": {
    "scrolled": true
   },
   "outputs": [
    {
     "name": "stdout",
     "output_type": "stream",
     "text": [
      " * sqlite:///my_data1.db\n",
      "Done.\n"
     ]
    },
    {
     "data": {
      "text/html": [
       "<table>\n",
       "    <thead>\n",
       "        <tr>\n",
       "            <th>Date</th>\n",
       "            <th>Time (UTC)</th>\n",
       "            <th>Booster_Version</th>\n",
       "            <th>Launch_Site</th>\n",
       "            <th>Payload</th>\n",
       "            <th>PAYLOAD_MASS__KG_</th>\n",
       "            <th>Orbit</th>\n",
       "            <th>Customer</th>\n",
       "            <th>Mission_Outcome</th>\n",
       "            <th>Landing_Outcome</th>\n",
       "        </tr>\n",
       "    </thead>\n",
       "    <tbody>\n",
       "        <tr>\n",
       "            <td>2010-06-04</td>\n",
       "            <td>18:45:00</td>\n",
       "            <td>F9 v1.0  B0003</td>\n",
       "            <td>CCAFS LC-40</td>\n",
       "            <td>Dragon Spacecraft Qualification Unit</td>\n",
       "            <td>0</td>\n",
       "            <td>LEO</td>\n",
       "            <td>SpaceX</td>\n",
       "            <td>Success</td>\n",
       "            <td>Failure (parachute)</td>\n",
       "        </tr>\n",
       "        <tr>\n",
       "            <td>2010-12-08</td>\n",
       "            <td>15:43:00</td>\n",
       "            <td>F9 v1.0  B0004</td>\n",
       "            <td>CCAFS LC-40</td>\n",
       "            <td>Dragon demo flight C1, two CubeSats, barrel of Brouere cheese</td>\n",
       "            <td>0</td>\n",
       "            <td>LEO (ISS)</td>\n",
       "            <td>NASA (COTS) NRO</td>\n",
       "            <td>Success</td>\n",
       "            <td>Failure (parachute)</td>\n",
       "        </tr>\n",
       "        <tr>\n",
       "            <td>2012-05-22</td>\n",
       "            <td>7:44:00</td>\n",
       "            <td>F9 v1.0  B0005</td>\n",
       "            <td>CCAFS LC-40</td>\n",
       "            <td>Dragon demo flight C2</td>\n",
       "            <td>525</td>\n",
       "            <td>LEO (ISS)</td>\n",
       "            <td>NASA (COTS)</td>\n",
       "            <td>Success</td>\n",
       "            <td>No attempt</td>\n",
       "        </tr>\n",
       "        <tr>\n",
       "            <td>2012-10-08</td>\n",
       "            <td>0:35:00</td>\n",
       "            <td>F9 v1.0  B0006</td>\n",
       "            <td>CCAFS LC-40</td>\n",
       "            <td>SpaceX CRS-1</td>\n",
       "            <td>500</td>\n",
       "            <td>LEO (ISS)</td>\n",
       "            <td>NASA (CRS)</td>\n",
       "            <td>Success</td>\n",
       "            <td>No attempt</td>\n",
       "        </tr>\n",
       "        <tr>\n",
       "            <td>2013-03-01</td>\n",
       "            <td>15:10:00</td>\n",
       "            <td>F9 v1.0  B0007</td>\n",
       "            <td>CCAFS LC-40</td>\n",
       "            <td>SpaceX CRS-2</td>\n",
       "            <td>677</td>\n",
       "            <td>LEO (ISS)</td>\n",
       "            <td>NASA (CRS)</td>\n",
       "            <td>Success</td>\n",
       "            <td>No attempt</td>\n",
       "        </tr>\n",
       "    </tbody>\n",
       "</table>"
      ],
      "text/plain": [
       "[('2010-06-04', '18:45:00', 'F9 v1.0  B0003', 'CCAFS LC-40', 'Dragon Spacecraft Qualification Unit', 0, 'LEO', 'SpaceX', 'Success', 'Failure (parachute)'),\n",
       " ('2010-12-08', '15:43:00', 'F9 v1.0  B0004', 'CCAFS LC-40', 'Dragon demo flight C1, two CubeSats, barrel of Brouere cheese', 0, 'LEO (ISS)', 'NASA (COTS) NRO', 'Success', 'Failure (parachute)'),\n",
       " ('2012-05-22', '7:44:00', 'F9 v1.0  B0005', 'CCAFS LC-40', 'Dragon demo flight C2', 525, 'LEO (ISS)', 'NASA (COTS)', 'Success', 'No attempt'),\n",
       " ('2012-10-08', '0:35:00', 'F9 v1.0  B0006', 'CCAFS LC-40', 'SpaceX CRS-1', 500, 'LEO (ISS)', 'NASA (CRS)', 'Success', 'No attempt'),\n",
       " ('2013-03-01', '15:10:00', 'F9 v1.0  B0007', 'CCAFS LC-40', 'SpaceX CRS-2', 677, 'LEO (ISS)', 'NASA (CRS)', 'Success', 'No attempt')]"
      ]
     },
     "execution_count": 8,
     "metadata": {},
     "output_type": "execute_result"
    }
   ],
   "source": [
    "%sql SELECT * FROM SPACEXTABLE LIMIT 5;"
   ]
  },
  {
   "cell_type": "code",
   "execution_count": 9,
   "id": "e32b2c6c-c95d-4a2b-9062-4b543f1b067f",
   "metadata": {},
   "outputs": [
    {
     "name": "stdout",
     "output_type": "stream",
     "text": [
      " * sqlite:///my_data1.db\n",
      "Done.\n"
     ]
    },
    {
     "data": {
      "text/html": [
       "<table>\n",
       "    <thead>\n",
       "        <tr>\n",
       "            <th>Landing_Outcome</th>\n",
       "        </tr>\n",
       "    </thead>\n",
       "    <tbody>\n",
       "        <tr>\n",
       "            <td>Failure (parachute)</td>\n",
       "        </tr>\n",
       "        <tr>\n",
       "            <td>No attempt</td>\n",
       "        </tr>\n",
       "        <tr>\n",
       "            <td>Uncontrolled (ocean)</td>\n",
       "        </tr>\n",
       "        <tr>\n",
       "            <td>Controlled (ocean)</td>\n",
       "        </tr>\n",
       "        <tr>\n",
       "            <td>Failure (drone ship)</td>\n",
       "        </tr>\n",
       "        <tr>\n",
       "            <td>Precluded (drone ship)</td>\n",
       "        </tr>\n",
       "        <tr>\n",
       "            <td>Success (ground pad)</td>\n",
       "        </tr>\n",
       "        <tr>\n",
       "            <td>Success (drone ship)</td>\n",
       "        </tr>\n",
       "        <tr>\n",
       "            <td>Success</td>\n",
       "        </tr>\n",
       "        <tr>\n",
       "            <td>Failure</td>\n",
       "        </tr>\n",
       "        <tr>\n",
       "            <td>No attempt </td>\n",
       "        </tr>\n",
       "    </tbody>\n",
       "</table>"
      ],
      "text/plain": [
       "[('Failure (parachute)',),\n",
       " ('No attempt',),\n",
       " ('Uncontrolled (ocean)',),\n",
       " ('Controlled (ocean)',),\n",
       " ('Failure (drone ship)',),\n",
       " ('Precluded (drone ship)',),\n",
       " ('Success (ground pad)',),\n",
       " ('Success (drone ship)',),\n",
       " ('Success',),\n",
       " ('Failure',),\n",
       " ('No attempt ',)]"
      ]
     },
     "execution_count": 9,
     "metadata": {},
     "output_type": "execute_result"
    }
   ],
   "source": [
    "%sql SELECT DISTINCT Landing_Outcome FROM SPACEXTBL;"
   ]
  },
  {
   "cell_type": "markdown",
   "id": "58b7725e-4ad7-4788-924b-be184d0dc957",
   "metadata": {},
   "source": [
    "####  Task 1"
   ]
  },
  {
   "cell_type": "code",
   "execution_count": 10,
   "id": "36a617f1-133b-4080-813a-244887740bbe",
   "metadata": {},
   "outputs": [
    {
     "name": "stdout",
     "output_type": "stream",
     "text": [
      " * sqlite:///my_data1.db\n",
      "Done.\n"
     ]
    },
    {
     "data": {
      "text/html": [
       "<table>\n",
       "    <thead>\n",
       "        <tr>\n",
       "            <th>Launch_Site</th>\n",
       "        </tr>\n",
       "    </thead>\n",
       "    <tbody>\n",
       "        <tr>\n",
       "            <td>CCAFS LC-40</td>\n",
       "        </tr>\n",
       "        <tr>\n",
       "            <td>VAFB SLC-4E</td>\n",
       "        </tr>\n",
       "        <tr>\n",
       "            <td>KSC LC-39A</td>\n",
       "        </tr>\n",
       "        <tr>\n",
       "            <td>CCAFS SLC-40</td>\n",
       "        </tr>\n",
       "    </tbody>\n",
       "</table>"
      ],
      "text/plain": [
       "[('CCAFS LC-40',), ('VAFB SLC-4E',), ('KSC LC-39A',), ('CCAFS SLC-40',)]"
      ]
     },
     "execution_count": 10,
     "metadata": {},
     "output_type": "execute_result"
    }
   ],
   "source": [
    "%sql SELECT DISTINCT Launch_Site FROM SPACEXTBL;"
   ]
  },
  {
   "cell_type": "markdown",
   "id": "fdd33eaf-36dd-4d99-b8cd-5faaa060df21",
   "metadata": {},
   "source": [
    "#### Task 2"
   ]
  },
  {
   "cell_type": "code",
   "execution_count": 11,
   "id": "89100758-9025-4fc1-af7e-cd3fbcfc8679",
   "metadata": {},
   "outputs": [
    {
     "name": "stdout",
     "output_type": "stream",
     "text": [
      " * sqlite:///my_data1.db\n",
      "Done.\n"
     ]
    },
    {
     "data": {
      "text/html": [
       "<table>\n",
       "    <thead>\n",
       "        <tr>\n",
       "            <th>Date</th>\n",
       "            <th>Time (UTC)</th>\n",
       "            <th>Booster_Version</th>\n",
       "            <th>Launch_Site</th>\n",
       "            <th>Payload</th>\n",
       "            <th>PAYLOAD_MASS__KG_</th>\n",
       "            <th>Orbit</th>\n",
       "            <th>Customer</th>\n",
       "            <th>Mission_Outcome</th>\n",
       "            <th>Landing_Outcome</th>\n",
       "        </tr>\n",
       "    </thead>\n",
       "    <tbody>\n",
       "        <tr>\n",
       "            <td>2010-06-04</td>\n",
       "            <td>18:45:00</td>\n",
       "            <td>F9 v1.0  B0003</td>\n",
       "            <td>CCAFS LC-40</td>\n",
       "            <td>Dragon Spacecraft Qualification Unit</td>\n",
       "            <td>0</td>\n",
       "            <td>LEO</td>\n",
       "            <td>SpaceX</td>\n",
       "            <td>Success</td>\n",
       "            <td>Failure (parachute)</td>\n",
       "        </tr>\n",
       "        <tr>\n",
       "            <td>2010-12-08</td>\n",
       "            <td>15:43:00</td>\n",
       "            <td>F9 v1.0  B0004</td>\n",
       "            <td>CCAFS LC-40</td>\n",
       "            <td>Dragon demo flight C1, two CubeSats, barrel of Brouere cheese</td>\n",
       "            <td>0</td>\n",
       "            <td>LEO (ISS)</td>\n",
       "            <td>NASA (COTS) NRO</td>\n",
       "            <td>Success</td>\n",
       "            <td>Failure (parachute)</td>\n",
       "        </tr>\n",
       "        <tr>\n",
       "            <td>2012-05-22</td>\n",
       "            <td>7:44:00</td>\n",
       "            <td>F9 v1.0  B0005</td>\n",
       "            <td>CCAFS LC-40</td>\n",
       "            <td>Dragon demo flight C2</td>\n",
       "            <td>525</td>\n",
       "            <td>LEO (ISS)</td>\n",
       "            <td>NASA (COTS)</td>\n",
       "            <td>Success</td>\n",
       "            <td>No attempt</td>\n",
       "        </tr>\n",
       "        <tr>\n",
       "            <td>2012-10-08</td>\n",
       "            <td>0:35:00</td>\n",
       "            <td>F9 v1.0  B0006</td>\n",
       "            <td>CCAFS LC-40</td>\n",
       "            <td>SpaceX CRS-1</td>\n",
       "            <td>500</td>\n",
       "            <td>LEO (ISS)</td>\n",
       "            <td>NASA (CRS)</td>\n",
       "            <td>Success</td>\n",
       "            <td>No attempt</td>\n",
       "        </tr>\n",
       "        <tr>\n",
       "            <td>2013-03-01</td>\n",
       "            <td>15:10:00</td>\n",
       "            <td>F9 v1.0  B0007</td>\n",
       "            <td>CCAFS LC-40</td>\n",
       "            <td>SpaceX CRS-2</td>\n",
       "            <td>677</td>\n",
       "            <td>LEO (ISS)</td>\n",
       "            <td>NASA (CRS)</td>\n",
       "            <td>Success</td>\n",
       "            <td>No attempt</td>\n",
       "        </tr>\n",
       "    </tbody>\n",
       "</table>"
      ],
      "text/plain": [
       "[('2010-06-04', '18:45:00', 'F9 v1.0  B0003', 'CCAFS LC-40', 'Dragon Spacecraft Qualification Unit', 0, 'LEO', 'SpaceX', 'Success', 'Failure (parachute)'),\n",
       " ('2010-12-08', '15:43:00', 'F9 v1.0  B0004', 'CCAFS LC-40', 'Dragon demo flight C1, two CubeSats, barrel of Brouere cheese', 0, 'LEO (ISS)', 'NASA (COTS) NRO', 'Success', 'Failure (parachute)'),\n",
       " ('2012-05-22', '7:44:00', 'F9 v1.0  B0005', 'CCAFS LC-40', 'Dragon demo flight C2', 525, 'LEO (ISS)', 'NASA (COTS)', 'Success', 'No attempt'),\n",
       " ('2012-10-08', '0:35:00', 'F9 v1.0  B0006', 'CCAFS LC-40', 'SpaceX CRS-1', 500, 'LEO (ISS)', 'NASA (CRS)', 'Success', 'No attempt'),\n",
       " ('2013-03-01', '15:10:00', 'F9 v1.0  B0007', 'CCAFS LC-40', 'SpaceX CRS-2', 677, 'LEO (ISS)', 'NASA (CRS)', 'Success', 'No attempt')]"
      ]
     },
     "execution_count": 11,
     "metadata": {},
     "output_type": "execute_result"
    }
   ],
   "source": [
    "%sql SELECT * FROM SPACEXTABLE WHERE Launch_Site LIKE 'CCA%' LIMIT 5;"
   ]
  },
  {
   "cell_type": "markdown",
   "id": "2256cfe6-42f1-4218-a271-8510c673a09f",
   "metadata": {},
   "source": [
    "#### Task 3"
   ]
  },
  {
   "cell_type": "code",
   "execution_count": 12,
   "id": "ac74b43a-4dc9-45c6-b6f3-2e80b86ef038",
   "metadata": {
    "scrolled": true
   },
   "outputs": [
    {
     "name": "stdout",
     "output_type": "stream",
     "text": [
      " * sqlite:///my_data1.db\n",
      "Done.\n"
     ]
    },
    {
     "data": {
      "text/html": [
       "<table>\n",
       "    <thead>\n",
       "        <tr>\n",
       "            <th>TotalPayloadMass</th>\n",
       "        </tr>\n",
       "    </thead>\n",
       "    <tbody>\n",
       "        <tr>\n",
       "            <td>48213</td>\n",
       "        </tr>\n",
       "    </tbody>\n",
       "</table>"
      ],
      "text/plain": [
       "[(48213,)]"
      ]
     },
     "execution_count": 12,
     "metadata": {},
     "output_type": "execute_result"
    }
   ],
   "source": [
    "%sql SELECT SUM(PAYLOAD_MASS__KG_) AS TotalPayloadMass FROM SPACEXTBL WHERE Customer LIKE '%NASA (CRS)%';"
   ]
  },
  {
   "cell_type": "code",
   "execution_count": 13,
   "id": "f0c6b5cc-74c5-48ef-a8af-cbc0775badcb",
   "metadata": {},
   "outputs": [
    {
     "name": "stdout",
     "output_type": "stream",
     "text": [
      " * sqlite:///my_data1.db\n",
      "Done.\n"
     ]
    },
    {
     "data": {
      "text/html": [
       "<table>\n",
       "    <thead>\n",
       "        <tr>\n",
       "            <th>TotalPayloadMass</th>\n",
       "        </tr>\n",
       "    </thead>\n",
       "    <tbody>\n",
       "        <tr>\n",
       "            <td>45596</td>\n",
       "        </tr>\n",
       "    </tbody>\n",
       "</table>"
      ],
      "text/plain": [
       "[(45596,)]"
      ]
     },
     "execution_count": 13,
     "metadata": {},
     "output_type": "execute_result"
    }
   ],
   "source": [
    "%sql SELECT SUM(PAYLOAD_MASS__KG_) AS TotalPayloadMass FROM SPACEXTBL WHERE Customer = 'NASA (CRS)';"
   ]
  },
  {
   "cell_type": "markdown",
   "id": "56ae23aa-6755-4cd3-a71b-b4af2b61aeb5",
   "metadata": {},
   "source": [
    "#### Task 4"
   ]
  },
  {
   "cell_type": "code",
   "execution_count": 14,
   "id": "5897f092-415d-4a96-aaa7-d50903eb9d35",
   "metadata": {
    "scrolled": true
   },
   "outputs": [
    {
     "name": "stdout",
     "output_type": "stream",
     "text": [
      " * sqlite:///my_data1.db\n",
      "Done.\n"
     ]
    },
    {
     "data": {
      "text/html": [
       "<table>\n",
       "    <thead>\n",
       "        <tr>\n",
       "            <th>TotalPayloadMass</th>\n",
       "        </tr>\n",
       "    </thead>\n",
       "    <tbody>\n",
       "        <tr>\n",
       "            <td>2534.6666666666665</td>\n",
       "        </tr>\n",
       "    </tbody>\n",
       "</table>"
      ],
      "text/plain": [
       "[(2534.6666666666665,)]"
      ]
     },
     "execution_count": 14,
     "metadata": {},
     "output_type": "execute_result"
    }
   ],
   "source": [
    "%sql SELECT AVG(PAYLOAD_MASS__KG_) AS TotalPayloadMass FROM SPACEXTBL WHERE Booster_Version LIKE '%F9 v1.1%';"
   ]
  },
  {
   "cell_type": "markdown",
   "id": "47059730-83f3-4357-9704-bbdfa331532a",
   "metadata": {},
   "source": [
    "#### Task 5"
   ]
  },
  {
   "cell_type": "code",
   "execution_count": 15,
   "id": "87920fcf-1b1d-4307-bb68-3f8a1f1ab078",
   "metadata": {
    "scrolled": true
   },
   "outputs": [
    {
     "name": "stdout",
     "output_type": "stream",
     "text": [
      " * sqlite:///my_data1.db\n",
      "Done.\n"
     ]
    },
    {
     "data": {
      "text/html": [
       "<table>\n",
       "    <thead>\n",
       "        <tr>\n",
       "            <th>Landing_Outcome</th>\n",
       "            <th>Date</th>\n",
       "        </tr>\n",
       "    </thead>\n",
       "    <tbody>\n",
       "        <tr>\n",
       "            <td>Success (ground pad)</td>\n",
       "            <td>2015-12-22</td>\n",
       "        </tr>\n",
       "    </tbody>\n",
       "</table>"
      ],
      "text/plain": [
       "[('Success (ground pad)', '2015-12-22')]"
      ]
     },
     "execution_count": 15,
     "metadata": {},
     "output_type": "execute_result"
    }
   ],
   "source": [
    "%sql SELECT Landing_Outcome, Date FROM SPACEXTBL WHERE Landing_Outcome LIKE 'Success (ground pad)' ORDER BY Date LIMIT 1"
   ]
  },
  {
   "cell_type": "markdown",
   "id": "213b87d6-84bd-4908-9b25-206615332db4",
   "metadata": {},
   "source": [
    "#### Task 6"
   ]
  },
  {
   "cell_type": "code",
   "execution_count": 16,
   "id": "f90c0353-048c-48e0-a2ba-6217e8efe6e9",
   "metadata": {
    "scrolled": true
   },
   "outputs": [
    {
     "name": "stdout",
     "output_type": "stream",
     "text": [
      " * sqlite:///my_data1.db\n",
      "Done.\n"
     ]
    },
    {
     "data": {
      "text/html": [
       "<table>\n",
       "    <thead>\n",
       "        <tr>\n",
       "            <th>Booster_Version</th>\n",
       "        </tr>\n",
       "    </thead>\n",
       "    <tbody>\n",
       "        <tr>\n",
       "            <td>F9 FT B1022</td>\n",
       "        </tr>\n",
       "        <tr>\n",
       "            <td>F9 FT B1026</td>\n",
       "        </tr>\n",
       "        <tr>\n",
       "            <td>F9 FT  B1021.2</td>\n",
       "        </tr>\n",
       "        <tr>\n",
       "            <td>F9 FT  B1031.2</td>\n",
       "        </tr>\n",
       "    </tbody>\n",
       "</table>"
      ],
      "text/plain": [
       "[('F9 FT B1022',), ('F9 FT B1026',), ('F9 FT  B1021.2',), ('F9 FT  B1031.2',)]"
      ]
     },
     "execution_count": 16,
     "metadata": {},
     "output_type": "execute_result"
    }
   ],
   "source": [
    "%sql SELECT Booster_Version FROM SPACEXTBL WHERE Landing_Outcome = 'Success (drone ship)' AND PAYLOAD_MASS__KG_ > 4000 AND PAYLOAD_MASS__KG_ < 6000;"
   ]
  },
  {
   "cell_type": "markdown",
   "id": "06248e3a-b4e6-4da7-bbd8-437962184fb5",
   "metadata": {},
   "source": [
    "#### Task 7"
   ]
  },
  {
   "cell_type": "code",
   "execution_count": 17,
   "id": "949d6739-2970-4844-9008-f86a5229e476",
   "metadata": {},
   "outputs": [
    {
     "name": "stdout",
     "output_type": "stream",
     "text": [
      " * sqlite:///my_data1.db\n",
      "Done.\n"
     ]
    },
    {
     "data": {
      "text/html": [
       "<table>\n",
       "    <thead>\n",
       "        <tr>\n",
       "            <th>Mission_Outcome</th>\n",
       "            <th>TotalCount</th>\n",
       "        </tr>\n",
       "    </thead>\n",
       "    <tbody>\n",
       "        <tr>\n",
       "            <td>Failure (in flight)</td>\n",
       "            <td>1</td>\n",
       "        </tr>\n",
       "        <tr>\n",
       "            <td>Success</td>\n",
       "            <td>98</td>\n",
       "        </tr>\n",
       "        <tr>\n",
       "            <td>Success </td>\n",
       "            <td>1</td>\n",
       "        </tr>\n",
       "        <tr>\n",
       "            <td>Success (payload status unclear)</td>\n",
       "            <td>1</td>\n",
       "        </tr>\n",
       "    </tbody>\n",
       "</table>"
      ],
      "text/plain": [
       "[('Failure (in flight)', 1),\n",
       " ('Success', 98),\n",
       " ('Success ', 1),\n",
       " ('Success (payload status unclear)', 1)]"
      ]
     },
     "execution_count": 17,
     "metadata": {},
     "output_type": "execute_result"
    }
   ],
   "source": [
    "%sql SELECT Mission_Outcome, COUNT(*) AS TotalCount FROM SPACEXTBL GROUP BY Mission_Outcome;"
   ]
  },
  {
   "cell_type": "code",
   "execution_count": 18,
   "id": "a32c22e8-5b1c-4f83-8b6e-f96b08923fea",
   "metadata": {
    "scrolled": true
   },
   "outputs": [
    {
     "name": "stdout",
     "output_type": "stream",
     "text": [
      " * sqlite:///my_data1.db\n",
      "Done.\n"
     ]
    },
    {
     "data": {
      "text/html": [
       "<table>\n",
       "    <thead>\n",
       "        <tr>\n",
       "            <th>Mission_Outcome</th>\n",
       "        </tr>\n",
       "    </thead>\n",
       "    <tbody>\n",
       "        <tr>\n",
       "            <td>Success</td>\n",
       "        </tr>\n",
       "        <tr>\n",
       "            <td>Failure (in flight)</td>\n",
       "        </tr>\n",
       "        <tr>\n",
       "            <td>Success (payload status unclear)</td>\n",
       "        </tr>\n",
       "        <tr>\n",
       "            <td>Success </td>\n",
       "        </tr>\n",
       "    </tbody>\n",
       "</table>"
      ],
      "text/plain": [
       "[('Success',),\n",
       " ('Failure (in flight)',),\n",
       " ('Success (payload status unclear)',),\n",
       " ('Success ',)]"
      ]
     },
     "execution_count": 18,
     "metadata": {},
     "output_type": "execute_result"
    }
   ],
   "source": [
    "%sql SELECT DISTINCT Mission_Outcome FROM SPACEXTBL;"
   ]
  },
  {
   "cell_type": "markdown",
   "id": "248d378e-9760-46e5-99ca-163c002b9233",
   "metadata": {},
   "source": [
    "#### Task 9"
   ]
  },
  {
   "cell_type": "code",
   "execution_count": 19,
   "id": "34a942e9-6cef-463f-bc21-0fd21235e773",
   "metadata": {},
   "outputs": [
    {
     "name": "stdout",
     "output_type": "stream",
     "text": [
      " * sqlite:///my_data1.db\n",
      "Done.\n"
     ]
    },
    {
     "data": {
      "text/html": [
       "<table>\n",
       "    <thead>\n",
       "        <tr>\n",
       "            <th>Booster_Version</th>\n",
       "        </tr>\n",
       "    </thead>\n",
       "    <tbody>\n",
       "        <tr>\n",
       "            <td>F9 B5 B1048.4</td>\n",
       "        </tr>\n",
       "        <tr>\n",
       "            <td>F9 B5 B1049.4</td>\n",
       "        </tr>\n",
       "        <tr>\n",
       "            <td>F9 B5 B1051.3</td>\n",
       "        </tr>\n",
       "        <tr>\n",
       "            <td>F9 B5 B1056.4</td>\n",
       "        </tr>\n",
       "        <tr>\n",
       "            <td>F9 B5 B1048.5</td>\n",
       "        </tr>\n",
       "        <tr>\n",
       "            <td>F9 B5 B1051.4</td>\n",
       "        </tr>\n",
       "        <tr>\n",
       "            <td>F9 B5 B1049.5</td>\n",
       "        </tr>\n",
       "        <tr>\n",
       "            <td>F9 B5 B1060.2 </td>\n",
       "        </tr>\n",
       "        <tr>\n",
       "            <td>F9 B5 B1058.3 </td>\n",
       "        </tr>\n",
       "        <tr>\n",
       "            <td>F9 B5 B1051.6</td>\n",
       "        </tr>\n",
       "        <tr>\n",
       "            <td>F9 B5 B1060.3</td>\n",
       "        </tr>\n",
       "        <tr>\n",
       "            <td>F9 B5 B1049.7 </td>\n",
       "        </tr>\n",
       "    </tbody>\n",
       "</table>"
      ],
      "text/plain": [
       "[('F9 B5 B1048.4',),\n",
       " ('F9 B5 B1049.4',),\n",
       " ('F9 B5 B1051.3',),\n",
       " ('F9 B5 B1056.4',),\n",
       " ('F9 B5 B1048.5',),\n",
       " ('F9 B5 B1051.4',),\n",
       " ('F9 B5 B1049.5',),\n",
       " ('F9 B5 B1060.2 ',),\n",
       " ('F9 B5 B1058.3 ',),\n",
       " ('F9 B5 B1051.6',),\n",
       " ('F9 B5 B1060.3',),\n",
       " ('F9 B5 B1049.7 ',)]"
      ]
     },
     "execution_count": 19,
     "metadata": {},
     "output_type": "execute_result"
    }
   ],
   "source": [
    "%sql SELECT Booster_Version FROM SPACEXTBL WHERE PAYLOAD_MASS__KG_ = (SELECT MAX(PAYLOAD_MASS__KG_) FROM SPACEXTBL);"
   ]
  },
  {
   "cell_type": "markdown",
   "id": "80b333ae-d5ee-4d98-a880-f6c53e67eb62",
   "metadata": {},
   "source": [
    "%sql SELECT MAX(PAYLOAD_MASS__KG_) FROM SPACEXTBL"
   ]
  },
  {
   "cell_type": "markdown",
   "id": "b3230ae6-5613-49f7-9b4e-bf8d7779775e",
   "metadata": {},
   "source": [
    "#### Task 10"
   ]
  },
  {
   "cell_type": "code",
   "execution_count": 20,
   "id": "8ee7d652-25bf-4277-8611-94aa159a5c6c",
   "metadata": {
    "scrolled": true
   },
   "outputs": [
    {
     "name": "stdout",
     "output_type": "stream",
     "text": [
      " * sqlite:///my_data1.db\n",
      "Done.\n"
     ]
    },
    {
     "data": {
      "text/html": [
       "<table>\n",
       "    <thead>\n",
       "        <tr>\n",
       "            <th>Month_Name</th>\n",
       "            <th>Booster_Version</th>\n",
       "            <th>Launch_Site</th>\n",
       "        </tr>\n",
       "    </thead>\n",
       "    <tbody>\n",
       "        <tr>\n",
       "            <td>January</td>\n",
       "            <td>F9 v1.1 B1012</td>\n",
       "            <td>CCAFS LC-40</td>\n",
       "        </tr>\n",
       "        <tr>\n",
       "            <td>April</td>\n",
       "            <td>F9 v1.1 B1015</td>\n",
       "            <td>CCAFS LC-40</td>\n",
       "        </tr>\n",
       "    </tbody>\n",
       "</table>"
      ],
      "text/plain": [
       "[('January', 'F9 v1.1 B1012', 'CCAFS LC-40'),\n",
       " ('April', 'F9 v1.1 B1015', 'CCAFS LC-40')]"
      ]
     },
     "execution_count": 20,
     "metadata": {},
     "output_type": "execute_result"
    }
   ],
   "source": [
    "%sql SELECT CASE substr(Date, 6, 2) WHEN '01' THEN 'January' WHEN '02' THEN 'February' WHEN '03' THEN 'March' WHEN '04' THEN 'April' WHEN '05' THEN 'May' WHEN '06' THEN 'June' WHEN '07' THEN 'July' WHEN '08' THEN 'August' WHEN '09' THEN 'September' WHEN '10' THEN 'October' WHEN '11' THEN 'November' WHEN '12' THEN 'December' ELSE 'Unknown' END AS Month_Name, Booster_Version, Launch_Site FROM SPACEXTBL WHERE Landing_Outcome = 'Failure (drone ship)' AND substr(Date, 1, 4) = '2015';"
   ]
  },
  {
   "cell_type": "markdown",
   "id": "be78d19e-261f-47ce-bd21-fe3a8a99ea5f",
   "metadata": {},
   "source": [
    "#### Task 11"
   ]
  },
  {
   "cell_type": "code",
   "execution_count": 21,
   "id": "4b967d54-d966-436a-9ece-f1492f01e870",
   "metadata": {},
   "outputs": [
    {
     "name": "stdout",
     "output_type": "stream",
     "text": [
      " * sqlite:///my_data1.db\n",
      "Done.\n"
     ]
    },
    {
     "data": {
      "text/html": [
       "<table>\n",
       "    <thead>\n",
       "        <tr>\n",
       "            <th>Landing_Outcome</th>\n",
       "            <th>Outcome_Count</th>\n",
       "        </tr>\n",
       "    </thead>\n",
       "    <tbody>\n",
       "        <tr>\n",
       "            <td>No attempt</td>\n",
       "            <td>10</td>\n",
       "        </tr>\n",
       "        <tr>\n",
       "            <td>Success (drone ship)</td>\n",
       "            <td>5</td>\n",
       "        </tr>\n",
       "        <tr>\n",
       "            <td>Failure (drone ship)</td>\n",
       "            <td>5</td>\n",
       "        </tr>\n",
       "        <tr>\n",
       "            <td>Success (ground pad)</td>\n",
       "            <td>3</td>\n",
       "        </tr>\n",
       "        <tr>\n",
       "            <td>Controlled (ocean)</td>\n",
       "            <td>3</td>\n",
       "        </tr>\n",
       "        <tr>\n",
       "            <td>Uncontrolled (ocean)</td>\n",
       "            <td>2</td>\n",
       "        </tr>\n",
       "        <tr>\n",
       "            <td>Failure (parachute)</td>\n",
       "            <td>2</td>\n",
       "        </tr>\n",
       "        <tr>\n",
       "            <td>Precluded (drone ship)</td>\n",
       "            <td>1</td>\n",
       "        </tr>\n",
       "    </tbody>\n",
       "</table>"
      ],
      "text/plain": [
       "[('No attempt', 10),\n",
       " ('Success (drone ship)', 5),\n",
       " ('Failure (drone ship)', 5),\n",
       " ('Success (ground pad)', 3),\n",
       " ('Controlled (ocean)', 3),\n",
       " ('Uncontrolled (ocean)', 2),\n",
       " ('Failure (parachute)', 2),\n",
       " ('Precluded (drone ship)', 1)]"
      ]
     },
     "execution_count": 21,
     "metadata": {},
     "output_type": "execute_result"
    }
   ],
   "source": [
    "%sql SELECT Landing_Outcome, COUNT(*) AS Outcome_Count FROM SPACEXTBL WHERE Date BETWEEN '2010-06-04' AND '2017-03-20' GROUP BY Landing_Outcome ORDER BY Outcome_Count DESC;"
   ]
  },
  {
   "cell_type": "code",
   "execution_count": null,
   "id": "9b487efd-0490-40a8-b327-db2365ccd0dd",
   "metadata": {},
   "outputs": [],
   "source": []
  }
 ],
 "metadata": {
  "kernelspec": {
   "display_name": "Python 3 (ipykernel)",
   "language": "python",
   "name": "python3"
  },
  "language_info": {
   "codemirror_mode": {
    "name": "ipython",
    "version": 3
   },
   "file_extension": ".py",
   "mimetype": "text/x-python",
   "name": "python",
   "nbconvert_exporter": "python",
   "pygments_lexer": "ipython3",
   "version": "3.11.7"
  }
 },
 "nbformat": 4,
 "nbformat_minor": 5
}
